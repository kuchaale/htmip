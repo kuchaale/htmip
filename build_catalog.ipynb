{
 "cells": [
  {
   "cell_type": "code",
   "execution_count": 1,
   "id": "8e6952a6-a6e9-407a-9f1e-e6cc701b8929",
   "metadata": {},
   "outputs": [],
   "source": [
    "import pickle\n",
    "from datetime import datetime\n",
    "import traceback\n",
    "from pathlib import Path\n",
    "\n",
    "from ecgtools import Builder\n",
    "from ecgtools.parsers import parse_cmip6\n",
    "from ecgtools.builder import INVALID_ASSET, TRACEBACK\n",
    "import fsspec\n",
    "\n",
    "import xarray as xr\n",
    "import dask_gateway"
   ]
  },
  {
   "cell_type": "code",
   "execution_count": 16,
   "id": "b16d998b-eb01-42a4-8cda-9dbc50595b98",
   "metadata": {},
   "outputs": [],
   "source": [
    "gw = dask_gateway.Gateway(\"https://dask-gateway.jasmin.ac.uk\", auth=\"jupyterhub\")"
   ]
  },
  {
   "cell_type": "code",
   "execution_count": 18,
   "id": "90567c3e-4ab3-49ea-9538-c77704ae9158",
   "metadata": {},
   "outputs": [],
   "source": [
    "clusters = gw.list_clusters()\n",
    "if not clusters:\n",
    "    cluster = gw.new_cluster(options, shutdown_on_close=False)\n",
    "else:\n",
    "    cluster = gw.connect(clusters[0].name)\n"
   ]
  },
  {
   "cell_type": "code",
   "execution_count": 20,
   "id": "d9bf5dbf-c8a0-499b-bacd-0f70b8862da6",
   "metadata": {},
   "outputs": [
    {
     "data": {
      "text/html": [
       "<div>\n",
       "    <div style=\"width: 24px; height: 24px; background-color: #e1e1e1; border: 3px solid #9D9D9D; border-radius: 5px; position: absolute;\"> </div>\n",
       "    <div style=\"margin-left: 48px;\">\n",
       "        <h3 style=\"margin-bottom: 0px;\">Client</h3>\n",
       "        <p style=\"color: #9D9D9D; margin-bottom: 0px;\">Client-7595f9a8-ec23-11ee-8204-2e27d861a000</p>\n",
       "        <table style=\"width: 100%; text-align: left;\">\n",
       "\n",
       "        <tr>\n",
       "        \n",
       "            <td style=\"text-align: left;\"><strong>Connection method:</strong> Cluster object</td>\n",
       "            <td style=\"text-align: left;\"><strong>Cluster type:</strong> dask_gateway.GatewayCluster</td>\n",
       "        \n",
       "        </tr>\n",
       "\n",
       "        \n",
       "            <tr>\n",
       "                <td style=\"text-align: left;\">\n",
       "                    <strong>Dashboard: </strong> <a href=\"https://dask-gateway.jasmin.ac.uk/clusters/45607653974d4fdc8c40718ead55a600/status\" target=\"_blank\">https://dask-gateway.jasmin.ac.uk/clusters/45607653974d4fdc8c40718ead55a600/status</a>\n",
       "                </td>\n",
       "                <td style=\"text-align: left;\"></td>\n",
       "            </tr>\n",
       "        \n",
       "\n",
       "        </table>\n",
       "\n",
       "        \n",
       "\n",
       "        \n",
       "            <details>\n",
       "            <summary style=\"margin-bottom: 20px;\"><h3 style=\"display: inline;\">Cluster Info</h3></summary>\n",
       "            <div style='background-color: #f2f2f2; display: inline-block; padding: 10px; border: 1px solid #999999;'>\n",
       "  <h3>GatewayCluster</h3>\n",
       "  <ul>\n",
       "    <li><b>Name: </b>45607653974d4fdc8c40718ead55a600\n",
       "    <li><b>Dashboard: </b><a href='https://dask-gateway.jasmin.ac.uk/clusters/45607653974d4fdc8c40718ead55a600/status' target='_blank'>https://dask-gateway.jasmin.ac.uk/clusters/45607653974d4fdc8c40718ead55a600/status</a>\n",
       "  </ul>\n",
       "</div>\n",
       "\n",
       "            </details>\n",
       "        \n",
       "\n",
       "    </div>\n",
       "</div>"
      ],
      "text/plain": [
       "<Client: 'tls://172.17.11.136:44337' processes=0 threads=0, memory=0 B>"
      ]
     },
     "execution_count": 20,
     "metadata": {},
     "output_type": "execute_result"
    }
   ],
   "source": [
    "# Create at least one worker, and allow your cluster to scale to three.\n",
    "cluster.adapt(minimum=1, maximum=3)\n",
    "\n",
    "# Get a dask client.\n",
    "client = cluster.get_client()\n",
    "client"
   ]
  },
  {
   "cell_type": "code",
   "execution_count": 30,
   "id": "112d07e7-b6d0-42c4-95fc-22cf28b80d5b",
   "metadata": {},
   "outputs": [],
   "source": [
    "def data_parser(file):\n",
    "    file = Path(file)\n",
    "    #print(file.stem.split('_'))\n",
    "    info = {}\n",
    "\n",
    "    try:\n",
    "        stem = file.stem\n",
    "        split = stem.split('.')\n",
    "        #print(split)\n",
    "        variable = split[-1]\n",
    "\n",
    "        split = split[0].split('_')\n",
    "        temporal = split[0]\n",
    "        source = split[1]\n",
    "    \n",
    "        #split = split[-1].split('.')\n",
    "        #print(split)\n",
    "        #\n",
    "    \n",
    "        split = split[-1].split('-')\n",
    "        #print(split)\n",
    "        \n",
    "        exp = split[1]\n",
    "        what = split[2]\n",
    "        ens_name = split[4]\n",
    "        ens_num = int(ens_name.split('ensemble')[-1])      \n",
    "         \n",
    "        #with xr.open_dataset(file, chunks={}, decode_times=False) as ds:\n",
    "            \n",
    "        info = {\n",
    "            'source': source,\n",
    "            'temporal': temporal,\n",
    "            'variable': variable,\n",
    "            'ens': f\"{ens_num:02d}\",\n",
    "            'simulation': what,\n",
    "            'experiment': exp,\n",
    "            'path': str(file),\n",
    "        }\n",
    "\n",
    "        return info\n",
    "\n",
    "    except Exception:\n",
    "        return {INVALID_ASSET: file, TRACEBACK: traceback.format_exc()}\n",
    "    "
   ]
  },
  {
   "cell_type": "code",
   "execution_count": 29,
   "id": "58512929-3c80-4164-b6b8-7240d960dbd9",
   "metadata": {},
   "outputs": [
    {
     "data": {
      "text/plain": [
       "'01'"
      ]
     },
     "execution_count": 29,
     "metadata": {},
     "output_type": "execute_result"
    }
   ],
   "source": [
    "exp = 1\n",
    "f\"{exp:02d}\""
   ]
  },
  {
   "cell_type": "code",
   "execution_count": 104,
   "id": "a6e21068-e864-4e54-84e8-986bf6a537e5",
   "metadata": {},
   "outputs": [
    {
     "data": {
      "text/plain": [
       "'/gws/nopw/j04/htmip/'"
      ]
     },
     "execution_count": 104,
     "metadata": {},
     "output_type": "execute_result"
    }
   ],
   "source": [
    "root_path"
   ]
  },
  {
   "cell_type": "code",
   "execution_count": 26,
   "id": "e31d73a0-0a44-452b-90e9-11794c946ad5",
   "metadata": {},
   "outputs": [],
   "source": [
    "files = sorted(Path(root_path).rglob('**/**/*.nc'))"
   ]
  },
  {
   "cell_type": "code",
   "execution_count": 36,
   "id": "d07900ce-2f92-4f15-9d79-11e5b2d773c8",
   "metadata": {},
   "outputs": [
    {
     "data": {
      "text/plain": [
       "PosixPath('/gws/nopw/j04/htmip/Exp1and4_coupledocean/waccm6mam/Dailymean_WACCM6MAM_HTHHMOC-Exp1and4-NoVolc-CoupledOcean-ensemble001.chi.nc')"
      ]
     },
     "execution_count": 36,
     "metadata": {},
     "output_type": "execute_result"
    }
   ],
   "source": [
    "files[0]"
   ]
  },
  {
   "cell_type": "code",
   "execution_count": 38,
   "id": "3c205c86-bab3-4e5e-bb54-274839f9ef56",
   "metadata": {},
   "outputs": [
    {
     "data": {
      "text/plain": [
       "'/gws/nopw/j04/htmip/Exp1and4_coupledocean/waccm6mam/Dailymean_WACCM6MAM_HTHHMOC-Exp1and4-NoVolc-CoupledOcean-ensemble001.chi.nc'"
      ]
     },
     "execution_count": 38,
     "metadata": {},
     "output_type": "execute_result"
    }
   ],
   "source": [
    "_.as_posix()"
   ]
  },
  {
   "cell_type": "code",
   "execution_count": 40,
   "id": "9344c3eb-f3d3-4db8-a6e4-90521e6490a1",
   "metadata": {},
   "outputs": [
    {
     "data": {
      "text/plain": [
       "'/gws/nopw/j04/htmip/Exp1and4_coupledocean/waccm6mam/Dailymean_WACCM6MAM_HTHHMOC-Exp1and4-NoVolc-CoupledOcean-ensemble001.chi.nc'"
      ]
     },
     "execution_count": 40,
     "metadata": {},
     "output_type": "execute_result"
    }
   ],
   "source": [
    "files[0].as_posix()"
   ]
  },
  {
   "cell_type": "code",
   "execution_count": 86,
   "id": "b0ba0680-85d8-49d4-bb43-38dd59526993",
   "metadata": {},
   "outputs": [
    {
     "data": {
      "text/plain": [
       "{'source': 'WACCM6MAM',\n",
       " 'temporal': 'Dailymean',\n",
       " 'variable': 'chi',\n",
       " 'ens': 1,\n",
       " 'simulation': 'NoVolc',\n",
       " 'experiment': 'Exp1and4',\n",
       " 'path': '/gws/nopw/j04/htmip/Exp1and4_coupledocean/waccm6mam/Dailymean_WACCM6MAM_HTHHMOC-Exp1and4-NoVolc-CoupledOcean-ensemble001.chi.nc'}"
      ]
     },
     "execution_count": 86,
     "metadata": {},
     "output_type": "execute_result"
    }
   ],
   "source": [
    "data_parser(files[0].as_posix())"
   ]
  },
  {
   "cell_type": "code",
   "execution_count": 36,
   "id": "5d860533-b265-4250-80ed-31b7f485428d",
   "metadata": {},
   "outputs": [
    {
     "name": "stdout",
     "output_type": "stream",
     "text": [
      "Initializing builder object with /gws/nopw/j04/htmip/\n"
     ]
    }
   ],
   "source": [
    "# Location of HTMIP data\n",
    "root_path = \"/gws/nopw/j04/htmip/\"\n",
    "\n",
    "# Set up the ecgtools builder; have to go to a depth of 9\n",
    "# to get all of the available models. Theoretically, the \n",
    "# above root path could be modified to a specific model center\n",
    "# directory (in which case a depth of 8 would be necessary).\n",
    "# May need to do this when more SNAPSI data comes in but\n",
    "# TODO: figure out how to combine catalogs (so that we do not\n",
    "# have to repeat work)\n",
    "print(f\"Initializing builder object with {root_path}\")\n",
    "builder = Builder(paths=[root_path], extension=\".nc\", depth=3, njobs=-1)\n"
   ]
  },
  {
   "cell_type": "code",
   "execution_count": 37,
   "id": "d91bb530-44e4-4339-bd6e-4fe066c3ffdc",
   "metadata": {},
   "outputs": [
    {
     "data": {
      "text/plain": [
       "Builder(paths=['/gws/nopw/j04/htmip/'], storage_options={}, depth=3, exclude_patterns=[], include_patterns=[], joblib_parallel_kwargs={})"
      ]
     },
     "execution_count": 37,
     "metadata": {},
     "output_type": "execute_result"
    }
   ],
   "source": [
    "builder.get_assets()\n"
   ]
  },
  {
   "cell_type": "code",
   "execution_count": 7,
   "id": "0ef12130-a7ca-47df-9329-af55f8b949bc",
   "metadata": {},
   "outputs": [
    {
     "name": "stdout",
     "output_type": "stream",
     "text": [
      "Getting target assets, starting 2024-03-27 10:15:30.923505\n",
      "Finished obtaining assets at 2024-03-27 10:15:31.007555; duration 0:00:00.084050\n"
     ]
    }
   ],
   "source": [
    "assets_start = datetime.now()\n",
    "print(f\"Getting target assets, starting {assets_start}\")\n",
    "builder.get_assets()\n",
    "assets_end = datetime.now()\n",
    "print(f\"Finished obtaining assets at {assets_end}; duration {assets_end-assets_start}\")"
   ]
  },
  {
   "cell_type": "code",
   "execution_count": 38,
   "id": "481d6e81-4f53-4f2b-8b27-80ea8abdef98",
   "metadata": {},
   "outputs": [
    {
     "data": {
      "text/plain": [
       "Builder(paths=['/gws/nopw/j04/htmip/'], storage_options={}, depth=3, exclude_patterns=[], include_patterns=[], joblib_parallel_kwargs={})"
      ]
     },
     "execution_count": 38,
     "metadata": {},
     "output_type": "execute_result"
    }
   ],
   "source": [
    "builder.build(parsing_func=data_parser)"
   ]
  },
  {
   "cell_type": "code",
   "execution_count": 74,
   "id": "57b86c82-d85c-4775-947a-93002e35c136",
   "metadata": {},
   "outputs": [],
   "source": [
    "temp_file_name = builder.invalid_assets['INVALID_ASSET'].iloc[0].as_posix()"
   ]
  },
  {
   "cell_type": "code",
   "execution_count": 39,
   "id": "bb4c435f-0d25-4148-bb05-605a45df6d00",
   "metadata": {},
   "outputs": [
    {
     "data": {
      "text/html": [
       "<div>\n",
       "<style scoped>\n",
       "    .dataframe tbody tr th:only-of-type {\n",
       "        vertical-align: middle;\n",
       "    }\n",
       "\n",
       "    .dataframe tbody tr th {\n",
       "        vertical-align: top;\n",
       "    }\n",
       "\n",
       "    .dataframe thead th {\n",
       "        text-align: right;\n",
       "    }\n",
       "</style>\n",
       "<table border=\"1\" class=\"dataframe\">\n",
       "  <thead>\n",
       "    <tr style=\"text-align: right;\">\n",
       "      <th></th>\n",
       "    </tr>\n",
       "  </thead>\n",
       "  <tbody>\n",
       "  </tbody>\n",
       "</table>\n",
       "</div>"
      ],
      "text/plain": [
       "Empty DataFrame\n",
       "Columns: []\n",
       "Index: []"
      ]
     },
     "execution_count": 39,
     "metadata": {},
     "output_type": "execute_result"
    }
   ],
   "source": [
    "builder.invalid_assets#['TRACEBACK'].iloc[0]"
   ]
  },
  {
   "cell_type": "code",
   "execution_count": 10,
   "id": "06260b31-41c8-4130-9faa-ca3545ca89f8",
   "metadata": {},
   "outputs": [
    {
     "data": {
      "text/plain": [
       "'Traceback (most recent call last):\\n  File \"/tmp/ipykernel_516/3630927177.py\", line 28, in data_parser\\n    with xr.open_dataset(file, chunks={}, decode_times=False) as ds:\\nNameError: name \\'xr\\' is not defined\\n'"
      ]
     },
     "execution_count": 10,
     "metadata": {},
     "output_type": "execute_result"
    }
   ],
   "source": [
    "builder.invalid_assets['TRACEBACK'].iloc[0]"
   ]
  },
  {
   "cell_type": "code",
   "execution_count": 89,
   "id": "96f9bb64-9e5e-430c-a789-0091a6c8f8ef",
   "metadata": {},
   "outputs": [
    {
     "data": {
      "text/plain": [
       "'/gws/nopw/j04/htmip/Exp1and4_coupledocean/waccm6mam/Monthlymean_WACCM6MAM_HTHHMOC-Exp1and4-SO2andH2O-CoupledOcean-ensemble010.wtpct_mode3.nc'"
      ]
     },
     "execution_count": 89,
     "metadata": {},
     "output_type": "execute_result"
    }
   ],
   "source": [
    " builder.invalid_assets['INVALID_ASSET'].iloc[-1].as_posix()"
   ]
  },
  {
   "cell_type": "code",
   "execution_count": 40,
   "id": "886c2421-fc25-4844-8c6a-75ea5ddc318d",
   "metadata": {},
   "outputs": [
    {
     "data": {
      "text/html": [
       "<div>\n",
       "<style scoped>\n",
       "    .dataframe tbody tr th:only-of-type {\n",
       "        vertical-align: middle;\n",
       "    }\n",
       "\n",
       "    .dataframe tbody tr th {\n",
       "        vertical-align: top;\n",
       "    }\n",
       "\n",
       "    .dataframe thead th {\n",
       "        text-align: right;\n",
       "    }\n",
       "</style>\n",
       "<table border=\"1\" class=\"dataframe\">\n",
       "  <thead>\n",
       "    <tr style=\"text-align: right;\">\n",
       "      <th></th>\n",
       "      <th>source</th>\n",
       "      <th>temporal</th>\n",
       "      <th>variable</th>\n",
       "      <th>ens</th>\n",
       "      <th>simulation</th>\n",
       "      <th>experiment</th>\n",
       "      <th>path</th>\n",
       "    </tr>\n",
       "  </thead>\n",
       "  <tbody>\n",
       "    <tr>\n",
       "      <th>0</th>\n",
       "      <td>WACCM6MAM</td>\n",
       "      <td>Dailymean</td>\n",
       "      <td>chi</td>\n",
       "      <td>01</td>\n",
       "      <td>NoVolc</td>\n",
       "      <td>Exp1and4</td>\n",
       "      <td>/gws/nopw/j04/htmip/Exp1and4_coupledocean/wacc...</td>\n",
       "    </tr>\n",
       "    <tr>\n",
       "      <th>1</th>\n",
       "      <td>WACCM6MAM</td>\n",
       "      <td>Dailymean</td>\n",
       "      <td>epfy</td>\n",
       "      <td>01</td>\n",
       "      <td>NoVolc</td>\n",
       "      <td>Exp1and4</td>\n",
       "      <td>/gws/nopw/j04/htmip/Exp1and4_coupledocean/wacc...</td>\n",
       "    </tr>\n",
       "    <tr>\n",
       "      <th>2</th>\n",
       "      <td>WACCM6MAM</td>\n",
       "      <td>Dailymean</td>\n",
       "      <td>fyy</td>\n",
       "      <td>01</td>\n",
       "      <td>NoVolc</td>\n",
       "      <td>Exp1and4</td>\n",
       "      <td>/gws/nopw/j04/htmip/Exp1and4_coupledocean/wacc...</td>\n",
       "    </tr>\n",
       "    <tr>\n",
       "      <th>3</th>\n",
       "      <td>WACCM6MAM</td>\n",
       "      <td>Dailymean</td>\n",
       "      <td>utendepfd</td>\n",
       "      <td>01</td>\n",
       "      <td>NoVolc</td>\n",
       "      <td>Exp1and4</td>\n",
       "      <td>/gws/nopw/j04/htmip/Exp1and4_coupledocean/wacc...</td>\n",
       "    </tr>\n",
       "    <tr>\n",
       "      <th>4</th>\n",
       "      <td>WACCM6MAM</td>\n",
       "      <td>Dailymean</td>\n",
       "      <td>vtem</td>\n",
       "      <td>01</td>\n",
       "      <td>NoVolc</td>\n",
       "      <td>Exp1and4</td>\n",
       "      <td>/gws/nopw/j04/htmip/Exp1and4_coupledocean/wacc...</td>\n",
       "    </tr>\n",
       "  </tbody>\n",
       "</table>\n",
       "</div>"
      ],
      "text/plain": [
       "      source   temporal   variable ens simulation experiment  \\\n",
       "0  WACCM6MAM  Dailymean        chi  01     NoVolc   Exp1and4   \n",
       "1  WACCM6MAM  Dailymean       epfy  01     NoVolc   Exp1and4   \n",
       "2  WACCM6MAM  Dailymean        fyy  01     NoVolc   Exp1and4   \n",
       "3  WACCM6MAM  Dailymean  utendepfd  01     NoVolc   Exp1and4   \n",
       "4  WACCM6MAM  Dailymean       vtem  01     NoVolc   Exp1and4   \n",
       "\n",
       "                                                path  \n",
       "0  /gws/nopw/j04/htmip/Exp1and4_coupledocean/wacc...  \n",
       "1  /gws/nopw/j04/htmip/Exp1and4_coupledocean/wacc...  \n",
       "2  /gws/nopw/j04/htmip/Exp1and4_coupledocean/wacc...  \n",
       "3  /gws/nopw/j04/htmip/Exp1and4_coupledocean/wacc...  \n",
       "4  /gws/nopw/j04/htmip/Exp1and4_coupledocean/wacc...  "
      ]
     },
     "execution_count": 40,
     "metadata": {},
     "output_type": "execute_result"
    }
   ],
   "source": [
    "builder.df.head()"
   ]
  },
  {
   "cell_type": "code",
   "execution_count": null,
   "id": "d922aaf4-3f0a-4617-9c5a-16b402c9bf23",
   "metadata": {},
   "outputs": [],
   "source": [
    "builder."
   ]
  },
  {
   "cell_type": "code",
   "execution_count": 8,
   "id": "0d445c35-cbf3-4a46-a88a-ae3fc2e4e3de",
   "metadata": {},
   "outputs": [
    {
     "data": {
      "text/plain": [
       "array(['Exp1and4'], dtype=object)"
      ]
     },
     "execution_count": 8,
     "metadata": {},
     "output_type": "execute_result"
    }
   ],
   "source": [
    "builder.df.experiment.unique()"
   ]
  },
  {
   "cell_type": "code",
   "execution_count": null,
   "id": "0bacdb1d-3f09-4774-b5cc-c04389001480",
   "metadata": {},
   "outputs": [],
   "source": [
    "xr.combine_by_coords()"
   ]
  },
  {
   "cell_type": "code",
   "execution_count": 41,
   "id": "d17d2596-db3a-4ea9-ab85-e3d2ca3405b5",
   "metadata": {},
   "outputs": [
    {
     "name": "stdout",
     "output_type": "stream",
     "text": [
      "Successfully wrote ESM catalog json file to: file:///home/users/akuchar/htmip_catalog.json\n"
     ]
    }
   ],
   "source": [
    "builder.save(\n",
    "    # File path - could save as .csv (uncompressed csv) or .csv.gz (compressed csv)\n",
    "    name = \"htmip_catalog\",\n",
    "    #directory=root_path,\n",
    "    #catalog_type = 'dict',\n",
    "    # Column name including filepath\n",
    "    path_column_name='path',\n",
    "    # Column name including variables\n",
    "    variable_column_name='variable',\n",
    "    # Data file format - could be netcdf or zarr (in this case, netcdf)\n",
    "    data_format=\"netcdf\",\n",
    "    # Which attributes to groupby when reading in variables using intake-esm\n",
    "    groupby_attrs=[\"source\", \"temporal\", \"simulation\", \"ens\", \"experiment\"],\n",
    "    # Aggregations which are fed into xarray when reading in data using intake\n",
    "    aggregations=[\n",
    "        {\n",
    "            \"type\": \"join_new\",\n",
    "            \"attribute_name\": \"ens\",\n",
    "            \"options\": {\"dim\": \"time\", \"coords\": \"minimal\", \"compat\": \"override\"},\n",
    "        }\n",
    "    ],\n",
    ")"
   ]
  }
 ],
 "metadata": {
  "kernelspec": {
   "display_name": "Python 3 + Jaspy",
   "language": "python",
   "name": "jaspy"
  },
  "language_info": {
   "codemirror_mode": {
    "name": "ipython",
    "version": 3
   },
   "file_extension": ".py",
   "mimetype": "text/x-python",
   "name": "python",
   "nbconvert_exporter": "python",
   "pygments_lexer": "ipython3",
   "version": "3.10.8"
  }
 },
 "nbformat": 4,
 "nbformat_minor": 5
}
